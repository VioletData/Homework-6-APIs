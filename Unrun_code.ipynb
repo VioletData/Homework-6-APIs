{
 "cells": [
  {
   "cell_type": "code",
   "execution_count": null,
   "metadata": {},
   "outputs": [],
   "source": [
    "# Dependencies and Setup\n",
    "import matplotlib.pyplot as plt\n",
    "import pandas as pd\n",
    "import numpy as np\n",
    "import requests\n",
    "import time\n",
    "import json\n",
    "\n",
    "# Import API key\n",
    "from api_keys import api_key\n",
    "\n",
    "# Incorporated citipy to determine city based on latitude and longitude\n",
    "from citipy import citipy\n",
    "\n",
    "# Output File (CSV)\n",
    "output_data_file = \"output_data/cities.csv\"\n",
    "\n",
    "# Range of latitudes and longitudes\n",
    "lat_range = (-90, 90)\n",
    "lng_range = (-180, 180)"
   ]
  },
  {
   "cell_type": "code",
   "execution_count": null,
   "metadata": {},
   "outputs": [],
   "source": [
    "# List for holding lat_lngs and cities\n",
    "lat_lngs = []\n",
    "cities = []\n",
    "\n",
    "# Create a set of random lat and lng combinations\n",
    "lats = np.random.uniform(low=-90.000, high=90.000, size=1500)\n",
    "lngs = np.random.uniform(low=-180.000, high=180.000, size=1500)\n",
    "lat_lngs = zip(lats, lngs)\n",
    "\n",
    "# Identify nearest city for each lat, lng combination\n",
    "for lat_lng in lat_lngs:\n",
    "    city = citipy.nearest_city(lat_lng[0], lat_lng[1]).city_name\n",
    "    \n",
    "    # If the city is unique, then add it to a our cities list\n",
    "    if city not in cities:\n",
    "        cities.append(city)\n",
    "\n",
    "# Print the city count to confirm sufficient count\n",
    "len(cities)\n",
    "print(cities)"
   ]
  },
  {
   "cell_type": "code",
   "execution_count": null,
   "metadata": {},
   "outputs": [],
   "source": [
    "# Save config information.\n",
    "url = \"http://api.openweathermap.org/data/2.5/weather?\"\n",
    "\n",
    "# Build partial query URL\n",
    "query_url = f\"{url}appid={api_key}&q=\"\n",
    "print(query_url)"
   ]
  },
  {
   "cell_type": "code",
   "execution_count": null,
   "metadata": {},
   "outputs": [],
   "source": [
    "# set up list to hold reponse info\n",
    "city_info = []\n",
    "\n",
    "# Loop through the list of cities and perform a request for data on each\n",
    "for city in cities:\n",
    "    response = requests.get(query_url + city).json()\n",
    "    \n",
    "#     print(response)\n",
    "    try:\n",
    "        city_lon = response[\"coord\"][\"lon\"]\n",
    "        city_lat = response[\"coord\"][\"lat\"]\n",
    "        city_max_temp = response[\"main\"][\"temp_max\"]\n",
    "        city_humidity = response[\"main\"][\"humidity\"]\n",
    "        city_clouds = response[\"clouds\"][\"all\"]\n",
    "        city_wind = response[\"wind\"][\"speed\"]\n",
    "        city_country = response[\"sys\"][\"country\"]\n",
    "        city_date = response[\"dt\"]\n",
    "\n",
    "        city_info.append({\"City\": city, \n",
    "                    \"Lon\": city_lon, \n",
    "                    \"Lat\": city_lat, \n",
    "                    \"Max Temp\": city_max_temp,\n",
    "                    \"Humidity\": city_humidity,\n",
    "                    \"Cloudiness\": city_clouds,\n",
    "                    \"Wind Speed\": city_wind,\n",
    "                    \"Country\": city_country,\n",
    "                    \"Date\": city_date})\n",
    "\n",
    "        print(city_info)\n",
    "    except:\n",
    "        print(\"city not found\")\n",
    "        pass"
   ]
  },
  {
   "cell_type": "code",
   "execution_count": null,
   "metadata": {},
   "outputs": [],
   "source": [
    "# create a data frame with city_info\n",
    "\n",
    "weather_data = pd.DataFrame(city_info)\n",
    "weather_data\n"
   ]
  },
  {
   "cell_type": "code",
   "execution_count": null,
   "metadata": {},
   "outputs": [],
   "source": [
    "# Extract fields from df\n",
    "lat = weather_data[\"Lat\"]\n",
    "max_temp = weather_data[\"Max Temp\"]\n",
    "humidity = weather_data[\"Humidity\"]\n",
    "cloudiness = weather_data[\"Cloudiness\"]\n",
    "wind_speed = weather_data[\"Wind Speed\"]"
   ]
  },
  {
   "cell_type": "code",
   "execution_count": null,
   "metadata": {},
   "outputs": [],
   "source": [
    "weather_data.count()"
   ]
  },
  {
   "cell_type": "code",
   "execution_count": null,
   "metadata": {},
   "outputs": [],
   "source": [
    "# Export the city info to a csv\n",
    "weather_data.to_csv(output_data_file, index_label=\"City\")"
   ]
  },
  {
   "cell_type": "code",
   "execution_count": null,
   "metadata": {},
   "outputs": [],
   "source": [
    "# Tells matplotlib that we want to make a scatter plot\n",
    "# The size of each point on our plot is determined by their x value\n",
    "plt.scatter(lat, max_temp, marker=\"o\", facecolors=\"blue\", linewidths=1, edgecolor=\"black\",\n",
    "         alpha=0.75, label=\"Cities\")\n",
    "\n",
    "plt.title(\"City Latitude vs. Max Temperature\")\n",
    "plt.xlabel(\"Latitude\")\n",
    "plt.ylabel(\"Max Temperature (Kelvin)\")\n",
    "plt.grid(True)\n",
    "plt.savefig(\"output_data/Lat_vs_temp.png\")\n",
    "plt.show()"
   ]
  },
  {
   "cell_type": "code",
   "execution_count": null,
   "metadata": {},
   "outputs": [],
   "source": [
    "# Tells matplotlib that we want to make a scatter plot\n",
    "# The size of each point on our plot is determined by their x value\n",
    "plt.scatter(lat, humidity, marker=\"o\", facecolors=\"blue\", linewidths=1, edgecolor=\"black\",\n",
    "         alpha=0.75, label=\"Cities\")\n",
    "\n",
    "plt.title(\"City Latitude vs. Hudmidity\")\n",
    "plt.xlabel(\"Latitude\")\n",
    "plt.ylabel(\"Humidity (%)\")\n",
    "plt.grid(True)\n",
    "plt.savefig(\"output_data/Lat_vs_humidity.png\")\n",
    "plt.show()"
   ]
  },
  {
   "cell_type": "code",
   "execution_count": null,
   "metadata": {},
   "outputs": [],
   "source": [
    "# Tells matplotlib that we want to make a scatter plot\n",
    "# The size of each point on our plot is determined by their x value\n",
    "plt.scatter(lat, cloudiness, marker=\"o\", facecolors=\"blue\", linewidths=1, edgecolor=\"black\",\n",
    "         alpha=0.75, label=\"Cities\")\n",
    "\n",
    "plt.title(\"City Latitude vs. Cloudiness\")\n",
    "plt.xlabel(\"Latitude\")\n",
    "plt.ylabel(\"Cloudiness (%)\")\n",
    "plt.grid(True)\n",
    "plt.savefig(\"output_data/Lat_vs_cloudiness.png\")\n",
    "plt.show()"
   ]
  },
  {
   "cell_type": "code",
   "execution_count": null,
   "metadata": {},
   "outputs": [],
   "source": [
    "# Tells matplotlib that we want to make a scatter plot\n",
    "# The size of each point on our plot is determined by their x value\n",
    "plt.scatter(lat, wind_speed, marker=\"o\", facecolors=\"blue\", linewidths=1, edgecolor=\"black\",\n",
    "         alpha=0.75, label=\"Cities\")\n",
    "\n",
    "plt.title(\"City Latitude vs. Wind Speed\")\n",
    "plt.xlabel(\"Latitude\")\n",
    "plt.ylabel(\"Wind Speed (mph)\")\n",
    "plt.grid(True)\n",
    "plt.savefig(\"output_data/Lat_vs_windspeed.png\")\n",
    "plt.show()"
   ]
  }
 ],
 "metadata": {
  "kernelspec": {
   "display_name": "Python 3",
   "language": "python",
   "name": "python3"
  },
  "language_info": {
   "codemirror_mode": {
    "name": "ipython",
    "version": 3
   },
   "file_extension": ".py",
   "mimetype": "text/x-python",
   "name": "python",
   "nbconvert_exporter": "python",
   "pygments_lexer": "ipython3",
   "version": "3.6.8"
  }
 },
 "nbformat": 4,
 "nbformat_minor": 2
}
